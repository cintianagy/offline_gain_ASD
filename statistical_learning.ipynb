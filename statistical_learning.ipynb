{
 "cells": [
  {
   "cell_type": "markdown",
   "id": "aa9fe2e1",
   "metadata": {},
   "source": [
    "# STATISTICAL LEARNING"
   ]
  },
  {
   "cell_type": "markdown",
   "id": "1c955ecf",
   "metadata": {},
   "source": [
    "# import python packages"
   ]
  },
  {
   "cell_type": "code",
   "execution_count": 1,
   "id": "6a13080a",
   "metadata": {},
   "outputs": [],
   "source": [
    "import pandas as pd\n",
    "import numpy as np\n",
    "import seaborn as sns\n",
    "import matplotlib as plt\n",
    "import copy"
   ]
  },
  {
   "cell_type": "markdown",
   "id": "280609de",
   "metadata": {},
   "source": [
    "#### define parameters of the study"
   ]
  },
  {
   "cell_type": "code",
   "execution_count": 2,
   "id": "2ff2975a",
   "metadata": {},
   "outputs": [],
   "source": [
    "study_number = 1 # 1 or 2"
   ]
  },
  {
   "cell_type": "markdown",
   "id": "3ef7944f",
   "metadata": {},
   "source": [
    "# read data files"
   ]
  },
  {
   "cell_type": "code",
   "execution_count": 3,
   "id": "65b637aa",
   "metadata": {},
   "outputs": [
    {
     "name": "stderr",
     "output_type": "stream",
     "text": [
      "C:\\Users\\Cinti\\AppData\\Local\\Temp\\ipykernel_2588\\3630403981.py:1: DtypeWarning: Columns (2,3,7,11,15,17,18) have mixed types. Specify dtype option on import or set low_memory=False.\n",
      "  df_raw = pd.read_csv('C:/Users/Cinti/Documents/Kutatás/AUTI/_to_publish/raw_data/raw_study_3.csv')\n"
     ]
    }
   ],
   "source": [
    "df_raw = pd.read_csv('/raw_data/raw_study_1.csv')"
   ]
  },
  {
   "cell_type": "markdown",
   "id": "8112e773",
   "metadata": {},
   "source": [
    "# preprocessing"
   ]
  },
  {
   "cell_type": "markdown",
   "id": "733205b4",
   "metadata": {},
   "source": [
    "#### filter unnecessary columns"
   ]
  },
  {
   "cell_type": "code",
   "execution_count": 4,
   "id": "1d3593c6",
   "metadata": {},
   "outputs": [],
   "source": [
    "if study_number == 1:\n",
    "    df = df_raw.loc[:, ['Subject', 'Block', 'Epoch', 'finalRT', 'ACC', 'triplet_type', 'trial_number', 'is_practice', 'first_response']]\n",
    "elif study_number == 2:\n",
    "    df = df_raw.loc[:, ['Group', 'Subject', 'Block', 'Epoch', 'finalRT', 'ACC', 'triplet_type', 'trial_number']] "
   ]
  },
  {
   "cell_type": "markdown",
   "id": "c5381ac6",
   "metadata": {},
   "source": [
    "#### drop participants"
   ]
  },
  {
   "cell_type": "code",
   "execution_count": 5,
   "id": "777f8b4e",
   "metadata": {},
   "outputs": [],
   "source": [
    "if study_number == 1:\n",
    "    participants_to_drop = ['zfbr1xmr', 'ewa5a6u1', 'oah1o7vp', 'lc8zqd2x', 'i2dl9e3g', 'ln7eke9h', '3ippg8nb', 'qzmrvkrj', 'dzlz88d0', 'humixa7l', 'j21b81w9', 'ogw7lvdc', '0fp60qq4', 'n80gbsvq', 'i07caajj', 'isfjzkx5', '9l7yus87', 'wmltviex', 'j21b81w9', 'ogw7lvdc', '0fp60qq4', 'n80gbsvq', 'i07caajj', 'isfjzkx5', '9l7yus87', 'wmltviex', '1x978q7u', '2k3uo9o4', 'b8xtm1zh', 'f0akmxef', 'gt3prp03', 'h6qpfwbn', 'ls9k0t3b', 'nu06la2p', 'orjkqq2x', 'zbizxozj', '5rkxbz6t', 'arq89iuv', 'jiu3yo02', 'vjyzdao1', 'wokamkap', '1r2rgkqt', '1jgexvhk', 'u81zondt', 's1v4un3e', 'xvipcks4', 'xbiiwl18', 'smu50mjz', '8dcnhu5e', 'e550q34s', 'mfzonm1o', 'y25hszee', 'p7juo6b2', 'kd1s2st3', '89bnh3gg', 'hqqp11vo', '3yl5creu', '73fy2ybt', '4h9lbkef', 'gh8haajx', 'wxsg8bsv', 'tozvyp0y', 'ag4evd41', 'hbo6llus', 'hejp7uzx', 'qry7e8zc']\n",
    "elif study_number == 2:\n",
    "    participants_to_drop = [2, 7, 28]"
   ]
  },
  {
   "cell_type": "code",
   "execution_count": 6,
   "id": "5875415a",
   "metadata": {},
   "outputs": [],
   "source": [
    "df = df[~df['Subject'].isin(participants_to_drop)].reset_index(inplace=False)"
   ]
  },
  {
   "cell_type": "markdown",
   "id": "28251673",
   "metadata": {},
   "source": [
    "#### split based on median AQ points"
   ]
  },
  {
   "cell_type": "code",
   "execution_count": 7,
   "id": "55c8ddff",
   "metadata": {},
   "outputs": [],
   "source": [
    "if study_number == 1:\n",
    "    # load dataframe with the AQ points\n",
    "    AQ_df = pd.read_excel('/raw_data/aq_recoded.xlsx')\n",
    "    AQ_df = AQ_df[['Subject', 'AQ_total']]\n",
    "    \n",
    "    # merge with dataframe\n",
    "    df = df.merge(AQ_df, on = 'Subject', how = 'left')\n",
    "    \n",
    "    # split based on the median AQ\n",
    "    AQ_median = df['AQ_total'].median()\n",
    "    df['Group'] = df['AQ_total'].apply(lambda x: 0 if x < AQ_median else 1)"
   ]
  },
  {
   "cell_type": "code",
   "execution_count": 8,
   "id": "5ba43e61",
   "metadata": {},
   "outputs": [
    {
     "name": "stdout",
     "output_type": "stream",
     "text": [
      "77\n",
      "91\n"
     ]
    }
   ],
   "source": [
    "print(df[df['Group']==0]['Subject'].nunique())\n",
    "print(df[df['Group']==1]['Subject'].nunique())"
   ]
  },
  {
   "cell_type": "markdown",
   "id": "27541707",
   "metadata": {},
   "source": [
    "#### drop the practice blocks"
   ]
  },
  {
   "cell_type": "code",
   "execution_count": 9,
   "id": "560d899f",
   "metadata": {},
   "outputs": [],
   "source": [
    "if study_number == 1:\n",
    "    indexNames = df[df['is_practice'] == 1 ].index\n",
    "    df.drop(indexNames , inplace=True)\n",
    "    df = df.reset_index(drop=True)"
   ]
  },
  {
   "cell_type": "markdown",
   "id": "dc745361",
   "metadata": {},
   "source": [
    "#### drop trials that were not first responses to a given stimulus"
   ]
  },
  {
   "cell_type": "code",
   "execution_count": 10,
   "id": "957c4adb",
   "metadata": {},
   "outputs": [],
   "source": [
    "if study_number == 1:\n",
    "    indexNames1 = df[df['first_response'] == 0].index\n",
    "    df.drop(indexNames1, inplace=True)\n",
    "    df = df.reset_index(drop=True)"
   ]
  },
  {
   "cell_type": "markdown",
   "id": "9cdef049",
   "metadata": {},
   "source": [
    "#### exclude first trials, trills and repetitions"
   ]
  },
  {
   "cell_type": "code",
   "execution_count": 11,
   "id": "fb4bc019",
   "metadata": {},
   "outputs": [],
   "source": [
    "indexNames = df[df['triplet_type'] == 'X'].index\n",
    "df.drop(indexNames, inplace=True)\n",
    "indexNames2 = df[df['triplet_type'] == 'T'].index\n",
    "df.drop(indexNames2, inplace=True)\n",
    "indexNames3 = df[df['triplet_type'] == 'R'].index\n",
    "df.drop(indexNames3, inplace=True)\n",
    "df = df.reset_index(drop=True)"
   ]
  },
  {
   "cell_type": "markdown",
   "id": "f978b2c7",
   "metadata": {},
   "source": [
    "#### define outliers based on boxplot"
   ]
  },
  {
   "cell_type": "code",
   "execution_count": 12,
   "id": "775aa358",
   "metadata": {},
   "outputs": [],
   "source": [
    "def get_outliers(data, value):\n",
    "    # define outlier boundaries (for each subject, for each epoch)\n",
    "    data['outlier'] = 0\n",
    "    n_epoch = data['Epoch'].nunique()\n",
    "    n_group = data['Group'].nunique()\n",
    "    \n",
    "    for g in range(n_group):\n",
    "        subjects = data[data['Group'] == g]['Subject'].unique()\n",
    "        n_subject = data[data['Group'] == g]['Subject'].nunique()\n",
    "        \n",
    "        for s in range(n_subject):\n",
    "            q1 = data[data['Group'] == g][data['Subject'] == subjects[s]].groupby('Epoch')[value].quantile(q = 0.25).to_numpy()\n",
    "            q3 = data[data['Group'] == g][data['Subject'] == subjects[s]].groupby('Epoch')[value].quantile(q = 0.75).to_numpy()\n",
    "            iqr = q3 - q1\n",
    "            lower = q1 - 1.5 * iqr\n",
    "            upper = q3 + 1.5 * iqr\n",
    "            \n",
    "            # create a new variale indicating if the trial is an outlier\n",
    "            for i in range(len(data)):\n",
    "                if data['Group'][i] == g:\n",
    "                    if data['Subject'][i] == subjects[s]:\n",
    "                        for e in range(n_epoch):\n",
    "                            if data['Epoch'][i] == e + 1:\n",
    "                                if (data[value][i] < lower[e]) | (data[value][i] > upper[e]):\n",
    "                                    data['outlier'][i] = 1\n",
    "                                else:\n",
    "                                    data['outlier'][i] = 0\n",
    "    return data          "
   ]
  },
  {
   "cell_type": "code",
   "execution_count": 13,
   "id": "f62896ee",
   "metadata": {},
   "outputs": [
    {
     "name": "stderr",
     "output_type": "stream",
     "text": [
      "C:\\Users\\Cinti\\AppData\\Local\\Temp\\ipykernel_2588\\3475540077.py:12: UserWarning: Boolean Series key will be reindexed to match DataFrame index.\n",
      "  q1 = data[data['Group'] == g][data['Subject'] == subjects[s]].groupby('Epoch')[value].quantile(q = 0.25).to_numpy()\n",
      "C:\\Users\\Cinti\\AppData\\Local\\Temp\\ipykernel_2588\\3475540077.py:13: UserWarning: Boolean Series key will be reindexed to match DataFrame index.\n",
      "  q3 = data[data['Group'] == g][data['Subject'] == subjects[s]].groupby('Epoch')[value].quantile(q = 0.75).to_numpy()\n",
      "C:\\Users\\Cinti\\AppData\\Local\\Temp\\ipykernel_2588\\3475540077.py:27: SettingWithCopyWarning: \n",
      "A value is trying to be set on a copy of a slice from a DataFrame\n",
      "\n",
      "See the caveats in the documentation: https://pandas.pydata.org/pandas-docs/stable/user_guide/indexing.html#returning-a-view-versus-a-copy\n",
      "  data['outlier'][i] = 0\n",
      "C:\\Users\\Cinti\\AppData\\Local\\Temp\\ipykernel_2588\\3475540077.py:25: SettingWithCopyWarning: \n",
      "A value is trying to be set on a copy of a slice from a DataFrame\n",
      "\n",
      "See the caveats in the documentation: https://pandas.pydata.org/pandas-docs/stable/user_guide/indexing.html#returning-a-view-versus-a-copy\n",
      "  data['outlier'][i] = 1\n",
      "C:\\Users\\Cinti\\AppData\\Local\\Temp\\ipykernel_2588\\3475540077.py:12: UserWarning: Boolean Series key will be reindexed to match DataFrame index.\n",
      "  q1 = data[data['Group'] == g][data['Subject'] == subjects[s]].groupby('Epoch')[value].quantile(q = 0.25).to_numpy()\n",
      "C:\\Users\\Cinti\\AppData\\Local\\Temp\\ipykernel_2588\\3475540077.py:13: UserWarning: Boolean Series key will be reindexed to match DataFrame index.\n",
      "  q3 = data[data['Group'] == g][data['Subject'] == subjects[s]].groupby('Epoch')[value].quantile(q = 0.75).to_numpy()\n",
      "C:\\Users\\Cinti\\AppData\\Local\\Temp\\ipykernel_2588\\3475540077.py:27: SettingWithCopyWarning: \n",
      "A value is trying to be set on a copy of a slice from a DataFrame\n",
      "\n",
      "See the caveats in the documentation: https://pandas.pydata.org/pandas-docs/stable/user_guide/indexing.html#returning-a-view-versus-a-copy\n",
      "  data['outlier'][i] = 0\n",
      "C:\\Users\\Cinti\\AppData\\Local\\Temp\\ipykernel_2588\\3475540077.py:25: SettingWithCopyWarning: \n",
      "A value is trying to be set on a copy of a slice from a DataFrame\n",
      "\n",
      "See the caveats in the documentation: https://pandas.pydata.org/pandas-docs/stable/user_guide/indexing.html#returning-a-view-versus-a-copy\n",
      "  data['outlier'][i] = 1\n",
      "C:\\Users\\Cinti\\AppData\\Local\\Temp\\ipykernel_2588\\3475540077.py:12: UserWarning: Boolean Series key will be reindexed to match DataFrame index.\n",
      "  q1 = data[data['Group'] == g][data['Subject'] == subjects[s]].groupby('Epoch')[value].quantile(q = 0.25).to_numpy()\n",
      "C:\\Users\\Cinti\\AppData\\Local\\Temp\\ipykernel_2588\\3475540077.py:13: UserWarning: Boolean Series key will be reindexed to match DataFrame index.\n",
      "  q3 = data[data['Group'] == g][data['Subject'] == subjects[s]].groupby('Epoch')[value].quantile(q = 0.75).to_numpy()\n",
      "C:\\Users\\Cinti\\AppData\\Local\\Temp\\ipykernel_2588\\3475540077.py:27: SettingWithCopyWarning: \n",
      "A value is trying to be set on a copy of a slice from a DataFrame\n",
      "\n",
      "See the caveats in the documentation: https://pandas.pydata.org/pandas-docs/stable/user_guide/indexing.html#returning-a-view-versus-a-copy\n",
      "  data['outlier'][i] = 0\n",
      "C:\\Users\\Cinti\\AppData\\Local\\Temp\\ipykernel_2588\\3475540077.py:25: SettingWithCopyWarning: \n",
      "A value is trying to be set on a copy of a slice from a DataFrame\n",
      "\n",
      "See the caveats in the documentation: https://pandas.pydata.org/pandas-docs/stable/user_guide/indexing.html#returning-a-view-versus-a-copy\n",
      "  data['outlier'][i] = 1\n",
      "C:\\Users\\Cinti\\AppData\\Local\\Temp\\ipykernel_2588\\3475540077.py:12: UserWarning: Boolean Series key will be reindexed to match DataFrame index.\n",
      "  q1 = data[data['Group'] == g][data['Subject'] == subjects[s]].groupby('Epoch')[value].quantile(q = 0.25).to_numpy()\n",
      "C:\\Users\\Cinti\\AppData\\Local\\Temp\\ipykernel_2588\\3475540077.py:13: UserWarning: Boolean Series key will be reindexed to match DataFrame index.\n",
      "  q3 = data[data['Group'] == g][data['Subject'] == subjects[s]].groupby('Epoch')[value].quantile(q = 0.75).to_numpy()\n",
      "C:\\Users\\Cinti\\AppData\\Local\\Temp\\ipykernel_2588\\3475540077.py:27: SettingWithCopyWarning: \n",
      "A value is trying to be set on a copy of a slice from a DataFrame\n",
      "\n",
      "See the caveats in the documentation: https://pandas.pydata.org/pandas-docs/stable/user_guide/indexing.html#returning-a-view-versus-a-copy\n",
      "  data['outlier'][i] = 0\n",
      "C:\\Users\\Cinti\\AppData\\Local\\Temp\\ipykernel_2588\\3475540077.py:25: SettingWithCopyWarning: \n",
      "A value is trying to be set on a copy of a slice from a DataFrame\n",
      "\n",
      "See the caveats in the documentation: https://pandas.pydata.org/pandas-docs/stable/user_guide/indexing.html#returning-a-view-versus-a-copy\n",
      "  data['outlier'][i] = 1\n",
      "C:\\Users\\Cinti\\AppData\\Local\\Temp\\ipykernel_2588\\3475540077.py:12: UserWarning: Boolean Series key will be reindexed to match DataFrame index.\n",
      "  q1 = data[data['Group'] == g][data['Subject'] == subjects[s]].groupby('Epoch')[value].quantile(q = 0.25).to_numpy()\n",
      "C:\\Users\\Cinti\\AppData\\Local\\Temp\\ipykernel_2588\\3475540077.py:13: UserWarning: Boolean Series key will be reindexed to match DataFrame index.\n",
      "  q3 = data[data['Group'] == g][data['Subject'] == subjects[s]].groupby('Epoch')[value].quantile(q = 0.75).to_numpy()\n",
      "C:\\Users\\Cinti\\AppData\\Local\\Temp\\ipykernel_2588\\3475540077.py:27: SettingWithCopyWarning: \n",
      "A value is trying to be set on a copy of a slice from a DataFrame\n",
      "\n",
      "See the caveats in the documentation: https://pandas.pydata.org/pandas-docs/stable/user_guide/indexing.html#returning-a-view-versus-a-copy\n",
      "  data['outlier'][i] = 0\n",
      "C:\\Users\\Cinti\\AppData\\Local\\Temp\\ipykernel_2588\\3475540077.py:25: SettingWithCopyWarning: \n",
      "A value is trying to be set on a copy of a slice from a DataFrame\n",
      "\n",
      "See the caveats in the documentation: https://pandas.pydata.org/pandas-docs/stable/user_guide/indexing.html#returning-a-view-versus-a-copy\n",
      "  data['outlier'][i] = 1\n",
      "C:\\Users\\Cinti\\AppData\\Local\\Temp\\ipykernel_2588\\3475540077.py:12: UserWarning: Boolean Series key will be reindexed to match DataFrame index.\n",
      "  q1 = data[data['Group'] == g][data['Subject'] == subjects[s]].groupby('Epoch')[value].quantile(q = 0.25).to_numpy()\n",
      "C:\\Users\\Cinti\\AppData\\Local\\Temp\\ipykernel_2588\\3475540077.py:13: UserWarning: Boolean Series key will be reindexed to match DataFrame index.\n",
      "  q3 = data[data['Group'] == g][data['Subject'] == subjects[s]].groupby('Epoch')[value].quantile(q = 0.75).to_numpy()\n",
      "C:\\Users\\Cinti\\AppData\\Local\\Temp\\ipykernel_2588\\3475540077.py:27: SettingWithCopyWarning: \n",
      "A value is trying to be set on a copy of a slice from a DataFrame\n",
      "\n",
      "See the caveats in the documentation: https://pandas.pydata.org/pandas-docs/stable/user_guide/indexing.html#returning-a-view-versus-a-copy\n",
      "  data['outlier'][i] = 0\n",
      "C:\\Users\\Cinti\\AppData\\Local\\Temp\\ipykernel_2588\\3475540077.py:25: SettingWithCopyWarning: \n",
      "A value is trying to be set on a copy of a slice from a DataFrame\n",
      "\n",
      "See the caveats in the documentation: https://pandas.pydata.org/pandas-docs/stable/user_guide/indexing.html#returning-a-view-versus-a-copy\n",
      "  data['outlier'][i] = 1\n",
      "C:\\Users\\Cinti\\AppData\\Local\\Temp\\ipykernel_2588\\3475540077.py:12: UserWarning: Boolean Series key will be reindexed to match DataFrame index.\n",
      "  q1 = data[data['Group'] == g][data['Subject'] == subjects[s]].groupby('Epoch')[value].quantile(q = 0.25).to_numpy()\n",
      "C:\\Users\\Cinti\\AppData\\Local\\Temp\\ipykernel_2588\\3475540077.py:13: UserWarning: Boolean Series key will be reindexed to match DataFrame index.\n",
      "  q3 = data[data['Group'] == g][data['Subject'] == subjects[s]].groupby('Epoch')[value].quantile(q = 0.75).to_numpy()\n",
      "C:\\Users\\Cinti\\AppData\\Local\\Temp\\ipykernel_2588\\3475540077.py:27: SettingWithCopyWarning: \n",
      "A value is trying to be set on a copy of a slice from a DataFrame\n",
      "\n",
      "See the caveats in the documentation: https://pandas.pydata.org/pandas-docs/stable/user_guide/indexing.html#returning-a-view-versus-a-copy\n",
      "  data['outlier'][i] = 0\n",
      "C:\\Users\\Cinti\\AppData\\Local\\Temp\\ipykernel_2588\\3475540077.py:25: SettingWithCopyWarning: \n",
      "A value is trying to be set on a copy of a slice from a DataFrame\n",
      "\n",
      "See the caveats in the documentation: https://pandas.pydata.org/pandas-docs/stable/user_guide/indexing.html#returning-a-view-versus-a-copy\n",
      "  data['outlier'][i] = 1\n",
      "C:\\Users\\Cinti\\AppData\\Local\\Temp\\ipykernel_2588\\3475540077.py:12: UserWarning: Boolean Series key will be reindexed to match DataFrame index.\n",
      "  q1 = data[data['Group'] == g][data['Subject'] == subjects[s]].groupby('Epoch')[value].quantile(q = 0.25).to_numpy()\n",
      "C:\\Users\\Cinti\\AppData\\Local\\Temp\\ipykernel_2588\\3475540077.py:13: UserWarning: Boolean Series key will be reindexed to match DataFrame index.\n",
      "  q3 = data[data['Group'] == g][data['Subject'] == subjects[s]].groupby('Epoch')[value].quantile(q = 0.75).to_numpy()\n"
     ]
    },
    {
     "name": "stderr",
     "output_type": "stream",
     "text": [
      "C:\\Users\\Cinti\\AppData\\Local\\Temp\\ipykernel_2588\\3475540077.py:27: SettingWithCopyWarning: \n",
      "A value is trying to be set on a copy of a slice from a DataFrame\n",
      "\n",
      "See the caveats in the documentation: https://pandas.pydata.org/pandas-docs/stable/user_guide/indexing.html#returning-a-view-versus-a-copy\n",
      "  data['outlier'][i] = 0\n",
      "C:\\Users\\Cinti\\AppData\\Local\\Temp\\ipykernel_2588\\3475540077.py:25: SettingWithCopyWarning: \n",
      "A value is trying to be set on a copy of a slice from a DataFrame\n",
      "\n",
      "See the caveats in the documentation: https://pandas.pydata.org/pandas-docs/stable/user_guide/indexing.html#returning-a-view-versus-a-copy\n",
      "  data['outlier'][i] = 1\n",
      "C:\\Users\\Cinti\\AppData\\Local\\Temp\\ipykernel_2588\\3475540077.py:12: UserWarning: Boolean Series key will be reindexed to match DataFrame index.\n",
      "  q1 = data[data['Group'] == g][data['Subject'] == subjects[s]].groupby('Epoch')[value].quantile(q = 0.25).to_numpy()\n",
      "C:\\Users\\Cinti\\AppData\\Local\\Temp\\ipykernel_2588\\3475540077.py:13: UserWarning: Boolean Series key will be reindexed to match DataFrame index.\n",
      "  q3 = data[data['Group'] == g][data['Subject'] == subjects[s]].groupby('Epoch')[value].quantile(q = 0.75).to_numpy()\n",
      "C:\\Users\\Cinti\\AppData\\Local\\Temp\\ipykernel_2588\\3475540077.py:27: SettingWithCopyWarning: \n",
      "A value is trying to be set on a copy of a slice from a DataFrame\n",
      "\n",
      "See the caveats in the documentation: https://pandas.pydata.org/pandas-docs/stable/user_guide/indexing.html#returning-a-view-versus-a-copy\n",
      "  data['outlier'][i] = 0\n",
      "C:\\Users\\Cinti\\AppData\\Local\\Temp\\ipykernel_2588\\3475540077.py:25: SettingWithCopyWarning: \n",
      "A value is trying to be set on a copy of a slice from a DataFrame\n",
      "\n",
      "See the caveats in the documentation: https://pandas.pydata.org/pandas-docs/stable/user_guide/indexing.html#returning-a-view-versus-a-copy\n",
      "  data['outlier'][i] = 1\n",
      "C:\\Users\\Cinti\\AppData\\Local\\Temp\\ipykernel_2588\\3475540077.py:12: UserWarning: Boolean Series key will be reindexed to match DataFrame index.\n",
      "  q1 = data[data['Group'] == g][data['Subject'] == subjects[s]].groupby('Epoch')[value].quantile(q = 0.25).to_numpy()\n",
      "C:\\Users\\Cinti\\AppData\\Local\\Temp\\ipykernel_2588\\3475540077.py:13: UserWarning: Boolean Series key will be reindexed to match DataFrame index.\n",
      "  q3 = data[data['Group'] == g][data['Subject'] == subjects[s]].groupby('Epoch')[value].quantile(q = 0.75).to_numpy()\n",
      "C:\\Users\\Cinti\\AppData\\Local\\Temp\\ipykernel_2588\\3475540077.py:27: SettingWithCopyWarning: \n",
      "A value is trying to be set on a copy of a slice from a DataFrame\n",
      "\n",
      "See the caveats in the documentation: https://pandas.pydata.org/pandas-docs/stable/user_guide/indexing.html#returning-a-view-versus-a-copy\n",
      "  data['outlier'][i] = 0\n",
      "C:\\Users\\Cinti\\AppData\\Local\\Temp\\ipykernel_2588\\3475540077.py:25: SettingWithCopyWarning: \n",
      "A value is trying to be set on a copy of a slice from a DataFrame\n",
      "\n",
      "See the caveats in the documentation: https://pandas.pydata.org/pandas-docs/stable/user_guide/indexing.html#returning-a-view-versus-a-copy\n",
      "  data['outlier'][i] = 1\n",
      "C:\\Users\\Cinti\\AppData\\Local\\Temp\\ipykernel_2588\\3475540077.py:12: UserWarning: Boolean Series key will be reindexed to match DataFrame index.\n",
      "  q1 = data[data['Group'] == g][data['Subject'] == subjects[s]].groupby('Epoch')[value].quantile(q = 0.25).to_numpy()\n",
      "C:\\Users\\Cinti\\AppData\\Local\\Temp\\ipykernel_2588\\3475540077.py:13: UserWarning: Boolean Series key will be reindexed to match DataFrame index.\n",
      "  q3 = data[data['Group'] == g][data['Subject'] == subjects[s]].groupby('Epoch')[value].quantile(q = 0.75).to_numpy()\n",
      "C:\\Users\\Cinti\\AppData\\Local\\Temp\\ipykernel_2588\\3475540077.py:27: SettingWithCopyWarning: \n",
      "A value is trying to be set on a copy of a slice from a DataFrame\n",
      "\n",
      "See the caveats in the documentation: https://pandas.pydata.org/pandas-docs/stable/user_guide/indexing.html#returning-a-view-versus-a-copy\n",
      "  data['outlier'][i] = 0\n",
      "C:\\Users\\Cinti\\AppData\\Local\\Temp\\ipykernel_2588\\3475540077.py:25: SettingWithCopyWarning: \n",
      "A value is trying to be set on a copy of a slice from a DataFrame\n",
      "\n",
      "See the caveats in the documentation: https://pandas.pydata.org/pandas-docs/stable/user_guide/indexing.html#returning-a-view-versus-a-copy\n",
      "  data['outlier'][i] = 1\n",
      "C:\\Users\\Cinti\\AppData\\Local\\Temp\\ipykernel_2588\\3475540077.py:12: UserWarning: Boolean Series key will be reindexed to match DataFrame index.\n",
      "  q1 = data[data['Group'] == g][data['Subject'] == subjects[s]].groupby('Epoch')[value].quantile(q = 0.25).to_numpy()\n",
      "C:\\Users\\Cinti\\AppData\\Local\\Temp\\ipykernel_2588\\3475540077.py:13: UserWarning: Boolean Series key will be reindexed to match DataFrame index.\n",
      "  q3 = data[data['Group'] == g][data['Subject'] == subjects[s]].groupby('Epoch')[value].quantile(q = 0.75).to_numpy()\n",
      "C:\\Users\\Cinti\\AppData\\Local\\Temp\\ipykernel_2588\\3475540077.py:27: SettingWithCopyWarning: \n",
      "A value is trying to be set on a copy of a slice from a DataFrame\n",
      "\n",
      "See the caveats in the documentation: https://pandas.pydata.org/pandas-docs/stable/user_guide/indexing.html#returning-a-view-versus-a-copy\n",
      "  data['outlier'][i] = 0\n",
      "C:\\Users\\Cinti\\AppData\\Local\\Temp\\ipykernel_2588\\3475540077.py:25: SettingWithCopyWarning: \n",
      "A value is trying to be set on a copy of a slice from a DataFrame\n",
      "\n",
      "See the caveats in the documentation: https://pandas.pydata.org/pandas-docs/stable/user_guide/indexing.html#returning-a-view-versus-a-copy\n",
      "  data['outlier'][i] = 1\n"
     ]
    },
    {
     "ename": "KeyboardInterrupt",
     "evalue": "",
     "output_type": "error",
     "traceback": [
      "\u001b[1;31m---------------------------------------------------------------------------\u001b[0m",
      "\u001b[1;31mKeyboardInterrupt\u001b[0m                         Traceback (most recent call last)",
      "\u001b[1;32m~\\AppData\\Local\\Temp\\ipykernel_2588\\1801573055.py\u001b[0m in \u001b[0;36m<module>\u001b[1;34m\u001b[0m\n\u001b[1;32m----> 1\u001b[1;33m \u001b[0mdf\u001b[0m \u001b[1;33m=\u001b[0m \u001b[0mget_outliers\u001b[0m\u001b[1;33m(\u001b[0m\u001b[0mdf\u001b[0m\u001b[1;33m,\u001b[0m \u001b[1;34m'finalRT'\u001b[0m\u001b[1;33m)\u001b[0m\u001b[1;33m\u001b[0m\u001b[1;33m\u001b[0m\u001b[0m\n\u001b[0m",
      "\u001b[1;32m~\\AppData\\Local\\Temp\\ipykernel_2588\\3475540077.py\u001b[0m in \u001b[0;36mget_outliers\u001b[1;34m(data, value)\u001b[0m\n\u001b[0;32m     25\u001b[0m                                     \u001b[0mdata\u001b[0m\u001b[1;33m[\u001b[0m\u001b[1;34m'outlier'\u001b[0m\u001b[1;33m]\u001b[0m\u001b[1;33m[\u001b[0m\u001b[0mi\u001b[0m\u001b[1;33m]\u001b[0m \u001b[1;33m=\u001b[0m \u001b[1;36m1\u001b[0m\u001b[1;33m\u001b[0m\u001b[1;33m\u001b[0m\u001b[0m\n\u001b[0;32m     26\u001b[0m                                 \u001b[1;32melse\u001b[0m\u001b[1;33m:\u001b[0m\u001b[1;33m\u001b[0m\u001b[1;33m\u001b[0m\u001b[0m\n\u001b[1;32m---> 27\u001b[1;33m                                     \u001b[0mdata\u001b[0m\u001b[1;33m[\u001b[0m\u001b[1;34m'outlier'\u001b[0m\u001b[1;33m]\u001b[0m\u001b[1;33m[\u001b[0m\u001b[0mi\u001b[0m\u001b[1;33m]\u001b[0m \u001b[1;33m=\u001b[0m \u001b[1;36m0\u001b[0m\u001b[1;33m\u001b[0m\u001b[1;33m\u001b[0m\u001b[0m\n\u001b[0m\u001b[0;32m     28\u001b[0m     \u001b[1;32mreturn\u001b[0m \u001b[0mdata\u001b[0m\u001b[1;33m\u001b[0m\u001b[1;33m\u001b[0m\u001b[0m\n",
      "\u001b[1;32m~\\anaconda3\\lib\\site-packages\\pandas\\core\\series.py\u001b[0m in \u001b[0;36m__setitem__\u001b[1;34m(self, key, value)\u001b[0m\n\u001b[0;32m   1073\u001b[0m         \u001b[0mcheck_deprecated_indexers\u001b[0m\u001b[1;33m(\u001b[0m\u001b[0mkey\u001b[0m\u001b[1;33m)\u001b[0m\u001b[1;33m\u001b[0m\u001b[1;33m\u001b[0m\u001b[0m\n\u001b[0;32m   1074\u001b[0m         \u001b[0mkey\u001b[0m \u001b[1;33m=\u001b[0m \u001b[0mcom\u001b[0m\u001b[1;33m.\u001b[0m\u001b[0mapply_if_callable\u001b[0m\u001b[1;33m(\u001b[0m\u001b[0mkey\u001b[0m\u001b[1;33m,\u001b[0m \u001b[0mself\u001b[0m\u001b[1;33m)\u001b[0m\u001b[1;33m\u001b[0m\u001b[1;33m\u001b[0m\u001b[0m\n\u001b[1;32m-> 1075\u001b[1;33m         \u001b[0mcacher_needs_updating\u001b[0m \u001b[1;33m=\u001b[0m \u001b[0mself\u001b[0m\u001b[1;33m.\u001b[0m\u001b[0m_check_is_chained_assignment_possible\u001b[0m\u001b[1;33m(\u001b[0m\u001b[1;33m)\u001b[0m\u001b[1;33m\u001b[0m\u001b[1;33m\u001b[0m\u001b[0m\n\u001b[0m\u001b[0;32m   1076\u001b[0m \u001b[1;33m\u001b[0m\u001b[0m\n\u001b[0;32m   1077\u001b[0m         \u001b[1;32mif\u001b[0m \u001b[0mkey\u001b[0m \u001b[1;32mis\u001b[0m \u001b[0mEllipsis\u001b[0m\u001b[1;33m:\u001b[0m\u001b[1;33m\u001b[0m\u001b[1;33m\u001b[0m\u001b[0m\n",
      "\u001b[1;32m~\\anaconda3\\lib\\site-packages\\pandas\\core\\series.py\u001b[0m in \u001b[0;36m_check_is_chained_assignment_possible\u001b[1;34m(self)\u001b[0m\n\u001b[0;32m   1253\u001b[0m         \u001b[1;32mif\u001b[0m \u001b[0mself\u001b[0m\u001b[1;33m.\u001b[0m\u001b[0m_is_view\u001b[0m \u001b[1;32mand\u001b[0m \u001b[0mself\u001b[0m\u001b[1;33m.\u001b[0m\u001b[0m_is_cached\u001b[0m\u001b[1;33m:\u001b[0m\u001b[1;33m\u001b[0m\u001b[1;33m\u001b[0m\u001b[0m\n\u001b[0;32m   1254\u001b[0m             \u001b[0mref\u001b[0m \u001b[1;33m=\u001b[0m \u001b[0mself\u001b[0m\u001b[1;33m.\u001b[0m\u001b[0m_get_cacher\u001b[0m\u001b[1;33m(\u001b[0m\u001b[1;33m)\u001b[0m\u001b[1;33m\u001b[0m\u001b[1;33m\u001b[0m\u001b[0m\n\u001b[1;32m-> 1255\u001b[1;33m             \u001b[1;32mif\u001b[0m \u001b[0mref\u001b[0m \u001b[1;32mis\u001b[0m \u001b[1;32mnot\u001b[0m \u001b[1;32mNone\u001b[0m \u001b[1;32mand\u001b[0m \u001b[0mref\u001b[0m\u001b[1;33m.\u001b[0m\u001b[0m_is_mixed_type\u001b[0m\u001b[1;33m:\u001b[0m\u001b[1;33m\u001b[0m\u001b[1;33m\u001b[0m\u001b[0m\n\u001b[0m\u001b[0;32m   1256\u001b[0m                 \u001b[0mself\u001b[0m\u001b[1;33m.\u001b[0m\u001b[0m_check_setitem_copy\u001b[0m\u001b[1;33m(\u001b[0m\u001b[0mt\u001b[0m\u001b[1;33m=\u001b[0m\u001b[1;34m\"referent\"\u001b[0m\u001b[1;33m,\u001b[0m \u001b[0mforce\u001b[0m\u001b[1;33m=\u001b[0m\u001b[1;32mTrue\u001b[0m\u001b[1;33m)\u001b[0m\u001b[1;33m\u001b[0m\u001b[1;33m\u001b[0m\u001b[0m\n\u001b[0;32m   1257\u001b[0m             \u001b[1;32mreturn\u001b[0m \u001b[1;32mTrue\u001b[0m\u001b[1;33m\u001b[0m\u001b[1;33m\u001b[0m\u001b[0m\n",
      "\u001b[1;32m~\\anaconda3\\lib\\site-packages\\pandas\\core\\generic.py\u001b[0m in \u001b[0;36m_is_mixed_type\u001b[1;34m(self)\u001b[0m\n\u001b[0;32m   5678\u001b[0m             \u001b[1;32mreturn\u001b[0m \u001b[1;32mTrue\u001b[0m\u001b[1;33m\u001b[0m\u001b[1;33m\u001b[0m\u001b[0m\n\u001b[0;32m   5679\u001b[0m \u001b[1;33m\u001b[0m\u001b[0m\n\u001b[1;32m-> 5680\u001b[1;33m         \u001b[1;32mreturn\u001b[0m \u001b[0mself\u001b[0m\u001b[1;33m.\u001b[0m\u001b[0mdtypes\u001b[0m\u001b[1;33m.\u001b[0m\u001b[0mnunique\u001b[0m\u001b[1;33m(\u001b[0m\u001b[1;33m)\u001b[0m \u001b[1;33m>\u001b[0m \u001b[1;36m1\u001b[0m\u001b[1;33m\u001b[0m\u001b[1;33m\u001b[0m\u001b[0m\n\u001b[0m\u001b[0;32m   5681\u001b[0m \u001b[1;33m\u001b[0m\u001b[0m\n\u001b[0;32m   5682\u001b[0m     \u001b[1;33m@\u001b[0m\u001b[0mfinal\u001b[0m\u001b[1;33m\u001b[0m\u001b[1;33m\u001b[0m\u001b[0m\n",
      "\u001b[1;32m~\\anaconda3\\lib\\site-packages\\pandas\\core\\base.py\u001b[0m in \u001b[0;36mnunique\u001b[1;34m(self, dropna)\u001b[0m\n\u001b[0;32m   1025\u001b[0m         \u001b[1;36m4\u001b[0m\u001b[1;33m\u001b[0m\u001b[1;33m\u001b[0m\u001b[0m\n\u001b[0;32m   1026\u001b[0m         \"\"\"\n\u001b[1;32m-> 1027\u001b[1;33m         \u001b[0muniqs\u001b[0m \u001b[1;33m=\u001b[0m \u001b[0mself\u001b[0m\u001b[1;33m.\u001b[0m\u001b[0munique\u001b[0m\u001b[1;33m(\u001b[0m\u001b[1;33m)\u001b[0m\u001b[1;33m\u001b[0m\u001b[1;33m\u001b[0m\u001b[0m\n\u001b[0m\u001b[0;32m   1028\u001b[0m         \u001b[1;32mif\u001b[0m \u001b[0mdropna\u001b[0m\u001b[1;33m:\u001b[0m\u001b[1;33m\u001b[0m\u001b[1;33m\u001b[0m\u001b[0m\n\u001b[0;32m   1029\u001b[0m             \u001b[0muniqs\u001b[0m \u001b[1;33m=\u001b[0m \u001b[0mremove_na_arraylike\u001b[0m\u001b[1;33m(\u001b[0m\u001b[0muniqs\u001b[0m\u001b[1;33m)\u001b[0m\u001b[1;33m\u001b[0m\u001b[1;33m\u001b[0m\u001b[0m\n",
      "\u001b[1;32m~\\anaconda3\\lib\\site-packages\\pandas\\core\\series.py\u001b[0m in \u001b[0;36munique\u001b[1;34m(self)\u001b[0m\n\u001b[0;32m   2086\u001b[0m         \u001b[0mCategories\u001b[0m \u001b[1;33m(\u001b[0m\u001b[1;36m3\u001b[0m\u001b[1;33m,\u001b[0m \u001b[0mobject\u001b[0m\u001b[1;33m)\u001b[0m\u001b[1;33m:\u001b[0m \u001b[1;33m[\u001b[0m\u001b[1;34m'a'\u001b[0m \u001b[1;33m<\u001b[0m \u001b[1;34m'b'\u001b[0m \u001b[1;33m<\u001b[0m \u001b[1;34m'c'\u001b[0m\u001b[1;33m]\u001b[0m\u001b[1;33m\u001b[0m\u001b[1;33m\u001b[0m\u001b[0m\n\u001b[0;32m   2087\u001b[0m         \"\"\"\n\u001b[1;32m-> 2088\u001b[1;33m         \u001b[1;32mreturn\u001b[0m \u001b[0msuper\u001b[0m\u001b[1;33m(\u001b[0m\u001b[1;33m)\u001b[0m\u001b[1;33m.\u001b[0m\u001b[0munique\u001b[0m\u001b[1;33m(\u001b[0m\u001b[1;33m)\u001b[0m\u001b[1;33m\u001b[0m\u001b[1;33m\u001b[0m\u001b[0m\n\u001b[0m\u001b[0;32m   2089\u001b[0m \u001b[1;33m\u001b[0m\u001b[0m\n\u001b[0;32m   2090\u001b[0m     \u001b[1;33m@\u001b[0m\u001b[0moverload\u001b[0m\u001b[1;33m\u001b[0m\u001b[1;33m\u001b[0m\u001b[0m\n",
      "\u001b[1;32m~\\anaconda3\\lib\\site-packages\\pandas\\core\\base.py\u001b[0m in \u001b[0;36munique\u001b[1;34m(self)\u001b[0m\n\u001b[0;32m    987\u001b[0m                     \u001b[0mresult\u001b[0m \u001b[1;33m=\u001b[0m \u001b[0mnp\u001b[0m\u001b[1;33m.\u001b[0m\u001b[0masarray\u001b[0m\u001b[1;33m(\u001b[0m\u001b[0mresult\u001b[0m\u001b[1;33m)\u001b[0m\u001b[1;33m\u001b[0m\u001b[1;33m\u001b[0m\u001b[0m\n\u001b[0;32m    988\u001b[0m         \u001b[1;32melse\u001b[0m\u001b[1;33m:\u001b[0m\u001b[1;33m\u001b[0m\u001b[1;33m\u001b[0m\u001b[0m\n\u001b[1;32m--> 989\u001b[1;33m             \u001b[0mresult\u001b[0m \u001b[1;33m=\u001b[0m \u001b[0munique1d\u001b[0m\u001b[1;33m(\u001b[0m\u001b[0mvalues\u001b[0m\u001b[1;33m)\u001b[0m\u001b[1;33m\u001b[0m\u001b[1;33m\u001b[0m\u001b[0m\n\u001b[0m\u001b[0;32m    990\u001b[0m \u001b[1;33m\u001b[0m\u001b[0m\n\u001b[0;32m    991\u001b[0m         \u001b[1;32mreturn\u001b[0m \u001b[0mresult\u001b[0m\u001b[1;33m\u001b[0m\u001b[1;33m\u001b[0m\u001b[0m\n",
      "\u001b[1;32m~\\anaconda3\\lib\\site-packages\\pandas\\core\\algorithms.py\u001b[0m in \u001b[0;36munique\u001b[1;34m(values)\u001b[0m\n\u001b[0;32m    438\u001b[0m \u001b[1;33m\u001b[0m\u001b[0m\n\u001b[0;32m    439\u001b[0m     \u001b[0mtable\u001b[0m \u001b[1;33m=\u001b[0m \u001b[0mhtable\u001b[0m\u001b[1;33m(\u001b[0m\u001b[0mlen\u001b[0m\u001b[1;33m(\u001b[0m\u001b[0mvalues\u001b[0m\u001b[1;33m)\u001b[0m\u001b[1;33m)\u001b[0m\u001b[1;33m\u001b[0m\u001b[1;33m\u001b[0m\u001b[0m\n\u001b[1;32m--> 440\u001b[1;33m     \u001b[0muniques\u001b[0m \u001b[1;33m=\u001b[0m \u001b[0mtable\u001b[0m\u001b[1;33m.\u001b[0m\u001b[0munique\u001b[0m\u001b[1;33m(\u001b[0m\u001b[0mvalues\u001b[0m\u001b[1;33m)\u001b[0m\u001b[1;33m\u001b[0m\u001b[1;33m\u001b[0m\u001b[0m\n\u001b[0m\u001b[0;32m    441\u001b[0m     \u001b[0muniques\u001b[0m \u001b[1;33m=\u001b[0m \u001b[0m_reconstruct_data\u001b[0m\u001b[1;33m(\u001b[0m\u001b[0muniques\u001b[0m\u001b[1;33m,\u001b[0m \u001b[0moriginal\u001b[0m\u001b[1;33m.\u001b[0m\u001b[0mdtype\u001b[0m\u001b[1;33m,\u001b[0m \u001b[0moriginal\u001b[0m\u001b[1;33m)\u001b[0m\u001b[1;33m\u001b[0m\u001b[1;33m\u001b[0m\u001b[0m\n\u001b[0;32m    442\u001b[0m     \u001b[1;32mreturn\u001b[0m \u001b[0muniques\u001b[0m\u001b[1;33m\u001b[0m\u001b[1;33m\u001b[0m\u001b[0m\n",
      "\u001b[1;31mKeyboardInterrupt\u001b[0m: "
     ]
    }
   ],
   "source": [
    "df = get_outliers(df, 'finalRT')"
   ]
  },
  {
   "cell_type": "code",
   "execution_count": null,
   "id": "6b61c829",
   "metadata": {},
   "outputs": [],
   "source": [
    "indexNames0 = df[df['outlier'] == 1].index\n",
    "df.drop(indexNames0, inplace=True)\n",
    "df = df.reset_index(drop=True)"
   ]
  },
  {
   "cell_type": "markdown",
   "id": "584fee00",
   "metadata": {},
   "source": [
    "#### drop incorrect trials"
   ]
  },
  {
   "cell_type": "code",
   "execution_count": null,
   "id": "b009e291",
   "metadata": {},
   "outputs": [],
   "source": [
    "indexNames = df[df['ACC'] == 0 ].index\n",
    "df.drop(indexNames, inplace=True)\n",
    "df = df.reset_index(drop=True)"
   ]
  },
  {
   "cell_type": "markdown",
   "id": "0e6e3f36",
   "metadata": {},
   "source": [
    "# Calculating statistical learning"
   ]
  },
  {
   "cell_type": "markdown",
   "id": "6f650fd9",
   "metadata": {},
   "source": [
    "#### Calculate H and L scores by epochs"
   ]
  },
  {
   "cell_type": "code",
   "execution_count": null,
   "id": "35580df8",
   "metadata": {},
   "outputs": [],
   "source": [
    "if study_number == 1:\n",
    "    SL_RT_wide = df.pivot_table(index=['Group', 'Subject', 'AQ_total'], columns=['Epoch','triplet_type'], values='finalRT', aggfunc=np.median)\n",
    "    SL_RT_wide = SL_RT_wide.rename(columns={1.0: 'e1', 2.0: 'e2', 3.0:'e3', 4.0:'e4', 5.0: 'e5'}, level=0)\n",
    "    SL_RT_wide.columns = SL_RT_wide.columns.map('_'.join).str.strip('_') \n",
    "    for x in [1,2,3,4,5]:\n",
    "        SL_RT_wide[\"e\"+str(x)+\"_SL\"] = SL_RT_wide[\"e\"+str(x)+\"_L\"] - SL_RT_wide[\"e\"+str(x)+\"_H\"]\n",
    "elif study_number == 2:\n",
    "    SL_RT_wide = df.pivot_table(index=['Group','Subject'], columns=['Epoch','triplet_type'], values='finalRT', aggfunc=np.median)\n",
    "    SL_RT_wide = SL_RT_wide.rename(columns={1.0: 'e1', 2.0: 'e2', 3.0:'e3', 4.0:'e4'}, level=0)\n",
    "    SL_RT_wide.columns = SL_RT_wide.columns.map('_'.join).str.strip('_')\n",
    "    for x in [1,2,3,4]:\n",
    "        SL_RT_wide[\"e\"+str(x)+\"_SL\"] = SL_RT_wide[\"e\"+str(x)+\"_L\"] - SL_RT_wide[\"e\"+str(x)+\"_H\"]\n",
    "\n",
    "SL_RT_wide.head()"
   ]
  },
  {
   "cell_type": "markdown",
   "id": "1d5d93d1",
   "metadata": {},
   "source": [
    "#### Save data in CSV"
   ]
  },
  {
   "cell_type": "code",
   "execution_count": null,
   "id": "0aac4a5e",
   "metadata": {},
   "outputs": [],
   "source": [
    "#SL_RT_wide.to_csv('/processed_data/study_1/data_study_1_statistical_learning.csv',index=True)"
   ]
  },
  {
   "cell_type": "markdown",
   "id": "7d0223bb",
   "metadata": {},
   "source": [
    "# Calculating visuomotor performance"
   ]
  },
  {
   "cell_type": "markdown",
   "id": "422cba29",
   "metadata": {},
   "source": [
    "#### Calculate median RT by epochs"
   ]
  },
  {
   "cell_type": "code",
   "execution_count": null,
   "id": "7593a1ca",
   "metadata": {},
   "outputs": [],
   "source": [
    "if study_number == 1:\n",
    "    VP_RT_wide = df.pivot_table(index=['Group', 'Subject', 'AQ_total'], columns=['Epoch'], values='finalRT', aggfunc=np.median)\n",
    "    VP_RT_wide = VP_RT_wide.rename(columns={1.0: 'e1', 2.0: 'e2', 3.0:'e3', 4.0:'e4', 5.0: 'e5'}, level=0)\n",
    "elif study_number == 2:\n",
    "    VP_RT_wide = df.pivot_table(index=['Group', 'Subject'], columns=['Epoch'], values='finalRT', aggfunc=np.median)\n",
    "    VP_RT_wide = VP_RT_wide.rename(columns={1.0: 'e1', 2.0: 'e2', 3.0:'e3', 4.0:'e4'}, level=0)\n",
    "    \n",
    "VP_RT_wide.head()"
   ]
  },
  {
   "cell_type": "markdown",
   "id": "3c359da6",
   "metadata": {},
   "source": [
    "#### Save data in CSV"
   ]
  },
  {
   "cell_type": "code",
   "execution_count": null,
   "id": "e3dffbb2",
   "metadata": {},
   "outputs": [],
   "source": [
    "#VP_RT_wide.to_csv('/processed_data/study_1/data_study_1_visuomotor_performance.csv',index=True)"
   ]
  },
  {
   "cell_type": "code",
   "execution_count": null,
   "id": "5cc4e929",
   "metadata": {},
   "outputs": [],
   "source": []
  }
 ],
 "metadata": {
  "kernelspec": {
   "display_name": "Python 3 (ipykernel)",
   "language": "python",
   "name": "python3"
  },
  "language_info": {
   "codemirror_mode": {
    "name": "ipython",
    "version": 3
   },
   "file_extension": ".py",
   "mimetype": "text/x-python",
   "name": "python",
   "nbconvert_exporter": "python",
   "pygments_lexer": "ipython3",
   "version": "3.9.13"
  }
 },
 "nbformat": 4,
 "nbformat_minor": 5
}
